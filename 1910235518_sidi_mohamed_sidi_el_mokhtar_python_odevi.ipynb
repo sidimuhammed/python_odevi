{
 "cells": [
  {
   "cell_type": "markdown",
   "id": "029fafee",
   "metadata": {},
   "source": [
    "### QT interval hesaplama  Nedir:\n",
    "-------------------------------------\n",
    "\n",
    "* QT aralığı, kalbin elektriksel aktivitesinin süresini temsil eden elektrokardiyogram (EKG) üzerinde bir zaman ölçüsüdür. Özellikle Q dalgasının başlangıcından T dalgasının sonuna kadar olan süreyi ifade eder. Bu, kalbin elektriksel işleyişini değerlendirmek için temel bir parametredir. QT aralığının hesaplanması, potansiyel kalp anormalliklerini değerlendirmede yardımcı olur ve bireyin kalp hızına dayalı düzeltme formülleri kullanılarak ayarlanabilir."
   ]
  },
  {
   "cell_type": "markdown",
   "id": "0f5f67f3",
   "metadata": {},
   "source": [
    "### Geleneksel kod"
   ]
  },
  {
   "cell_type": "code",
   "execution_count": 2,
   "id": "ae7f1712",
   "metadata": {},
   "outputs": [
    {
     "name": "stdout",
     "output_type": "stream",
     "text": [
      "baslangic degerini girin: 5\n",
      "Bitis degerini girin: 20\n",
      "Interval: 15.0\n"
     ]
    }
   ],
   "source": [
    "try:\n",
    "   \n",
    "    baslangic = float(input(\"baslangic degerini girin: \"))\n",
    "    bitis = float(input(\"Bitis degerini girin: \"))\n",
    "   \n",
    "    interval = abs(bitis - baslangic)\n",
    "    print(\"Interval:\", interval)\n",
    "\n",
    "except ValueError:\n",
    "    print(\"Hata: Gecersiz bir deger girdiniz.\")\n"
   ]
  },
  {
   "cell_type": "markdown",
   "id": "fafbe252",
   "metadata": {},
   "source": [
    "### Fonksyonlu kod"
   ]
  },
  {
   "cell_type": "code",
   "execution_count": 5,
   "id": "914ad3fd",
   "metadata": {},
   "outputs": [
    {
     "name": "stdout",
     "output_type": "stream",
     "text": [
      "baslangic degerini girin: 5\n",
      "Bitis degerini girin: 20\n",
      "Interval: 15.0\n"
     ]
    }
   ],
   "source": [
    "def interval_hesaplama(baslangic,bitis):\n",
    "    return abs(bitis-baslangic)\n",
    "\n",
    "try:\n",
    "    \n",
    "    baslangic = float(input(\"baslangic degerini girin: \"))\n",
    "    bitis = float(input(\"Bitis degerini girin: \"))\n",
    "   \n",
    "    interval = interval_hesaplama(baslangic,bitis)\n",
    "    print(\"Interval:\", interval)\n",
    "\n",
    "except ValueError:\n",
    "    print(\"Hata: Gecersiz bir deger girdiniz.\")"
   ]
  },
  {
   "cell_type": "markdown",
   "id": "3c682044",
   "metadata": {},
   "source": [
    "### Tkinter kod"
   ]
  },
  {
   "cell_type": "code",
   "execution_count": 6,
   "id": "d1e5d4bd",
   "metadata": {},
   "outputs": [],
   "source": [
    "import tkinter as tk\n",
    "from tkinter import messagebox\n",
    "\n",
    "def interval_hesaplama():\n",
    "    try:\n",
    "        baslangic = float(entry_baslangic.get())\n",
    "        bitis = float(entry_bitis.get())\n",
    "        interval = abs(bitis - baslangic)\n",
    "        result_label.config(text=f\"Interval: {interval}\")\n",
    "    except ValueError:\n",
    "        messagebox.showerror(\"Hata: Geçersiz bir değer girdiniz.\")\n",
    "\n",
    "# Tkinter penceresi:\n",
    "root = tk.Tk()\n",
    "root.title(\"Interval Hesaplama Programı\")\n",
    "\n",
    "# Giris alanlari ve etiketleri:\n",
    "label_baslangic = tk.Label(root, text=\"Başlangıç Değeri:\")\n",
    "label_baslangic.grid(row=0, column=0, padx=10, pady=10)\n",
    "\n",
    "entry_baslangic = tk.Entry(root, width=10)\n",
    "entry_baslangic.grid(row=0, column=1, padx=10, pady=10)\n",
    "\n",
    "label_bitis = tk.Label(root, text=\"Bitiş Değeri:\")\n",
    "label_bitis.grid(row=1, column=0, padx=10, pady=10)\n",
    "\n",
    "entry_bitis = tk.Entry(root, width=10)\n",
    "entry_bitis.grid(row=1, column=1, padx=10, pady=10)\n",
    "\n",
    "# Hesapla butonu\n",
    "calculate_button = tk.Button(root, text=\"Hesapla\", command=interval_hesaplama)\n",
    "calculate_button.grid(row=2, column=0, columnspan=2, pady=10)\n",
    "\n",
    "# Sonuc etiketi\n",
    "result_label = tk.Label(root, text=\"Interval: \")\n",
    "result_label.grid(row=3, column=0, columnspan=2, pady=10)\n",
    "\n",
    "# Pencereyi calistir\n",
    "root.mainloop()\n"
   ]
  },
  {
   "cell_type": "code",
   "execution_count": null,
   "id": "1d7a3415",
   "metadata": {},
   "outputs": [],
   "source": []
  }
 ],
 "metadata": {
  "kernelspec": {
   "display_name": "Python 3 (ipykernel)",
   "language": "python",
   "name": "python3"
  },
  "language_info": {
   "codemirror_mode": {
    "name": "ipython",
    "version": 3
   },
   "file_extension": ".py",
   "mimetype": "text/x-python",
   "name": "python",
   "nbconvert_exporter": "python",
   "pygments_lexer": "ipython3",
   "version": "3.11.5"
  }
 },
 "nbformat": 4,
 "nbformat_minor": 5
}
